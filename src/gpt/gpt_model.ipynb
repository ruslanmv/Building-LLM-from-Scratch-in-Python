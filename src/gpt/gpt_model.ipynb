{
 "cells": [
  {
   "cell_type": "markdown",
   "metadata": {},
   "source": [
    "Step 1: Import Libraries"
   ]
  },
  {
   "cell_type": "code",
   "execution_count": 1,
   "metadata": {},
   "outputs": [],
   "source": [
    "import numpy as np\n",
    "import torch\n",
    "import torch.nn as nn\n",
    "import torch.nn.functional as F"
   ]
  },
  {
   "cell_type": "markdown",
   "metadata": {},
   "source": [
    "Step 2: Multi-Head Self-Attention Mechanism\n"
   ]
  },
  {
   "cell_type": "code",
   "execution_count": 2,
   "metadata": {},
   "outputs": [],
   "source": [
    "class MultiHeadSelfAttention(nn.Module):\n",
    "    def __init__(self, embed_size, heads):\n",
    "        super(MultiHeadSelfAttention, self).__init__()\n",
    "        self.embed_size = embed_size\n",
    "        self.heads = heads\n",
    "        self.head_dim = embed_size // heads\n",
    "\n",
    "        assert (\n",
    "            self.head_dim * heads == embed_size\n",
    "        ), \"Embedding size needs to be divisible by heads\"\n",
    "\n",
    "        self.values = nn.Linear(self.head_dim, embed_size, bias=False)\n",
    "        self.keys = nn.Linear(self.head_dim, embed_size, bias=False)\n",
    "        self.queries = nn.Linear(self.head_dim, embed_size, bias=False)\n",
    "        self.fc_out = nn.Linear(embed_size, embed_size)\n",
    "\n",
    "    def forward(self, values, keys, query, mask):\n",
    "        N = query.shape[0]\n",
    "        value_len, key_len, query_len = values.shape[1], keys.shape[1], query.shape[1]\n",
    "\n",
    "        # Split the embedding into self.heads different pieces\n",
    "        values = values.reshape(N, value_len, self.heads, self.head_dim)\n",
    "        keys = keys.reshape(N, key_len, self.heads, self.head_dim)\n",
    "        queries = query.reshape(N, query_len, self.heads, self.head_dim)\n",
    "\n",
    "        # Scaled dot-product attention\n",
    "        energy = torch.einsum(\"nqhd,nkhd->nhqk\", [queries, keys])\n",
    "        if mask is not None:\n",
    "            energy = energy.masked_fill(mask == 0, float(\"-1e20\"))\n",
    "        \n",
    "        attention = torch.softmax(energy / (self.embed_size ** (1 / 2)), dim=3)\n",
    "\n",
    "        out = torch.einsum(\"nhql,nlhd->nqhd\", [attention, values]).reshape(\n",
    "            N, query_len, self.embed_size\n",
    "        )\n",
    "\n",
    "        out = self.fc_out(out)\n",
    "        return out"
   ]
  },
  {
   "cell_type": "markdown",
   "metadata": {},
   "source": [
    "Step 3: Positional Encoding"
   ]
  },
  {
   "cell_type": "code",
   "execution_count": 3,
   "metadata": {},
   "outputs": [],
   "source": [
    "#Step 3: Positional Encoding (Updated)\n",
    "class PositionalEncoding(nn.Module):\n",
    "    def __init__(self, embed_size, max_len=5000):\n",
    "        super(PositionalEncoding, self).__init__()\n",
    "        self.embed_size = embed_size\n",
    "        self.max_len = max_len\n",
    "        self.encoding = None  # Will be created dynamically based on the sequence length\n",
    "\n",
    "    def get_positional_encoding(self, seq_len, device):\n",
    "        if self.encoding is None or seq_len > self.encoding.size(0):\n",
    "            pos = torch.arange(0, seq_len).unsqueeze(1).float()\n",
    "            two_i = torch.arange(0, self.embed_size, 2).float()\n",
    "            encoding = torch.zeros(seq_len, self.embed_size, device=device)\n",
    "            encoding[:, 0::2] = torch.sin(pos / (10000 ** (two_i / self.embed_size)))\n",
    "            encoding[:, 1::2] = torch.cos(pos / (10000 ** (two_i / self.embed_size)))\n",
    "            self.encoding = encoding\n",
    "        return self.encoding[:seq_len, :]\n",
    "\n",
    "    def forward(self, x):\n",
    "        seq_len = x.size(1)\n",
    "        pos_enc = self.get_positional_encoding(seq_len, x.device)\n",
    "        return x + pos_enc.to(x.device)\n"
   ]
  },
  {
   "cell_type": "markdown",
   "metadata": {},
   "source": [
    "Step 4: Transformer Block"
   ]
  },
  {
   "cell_type": "code",
   "execution_count": 4,
   "metadata": {},
   "outputs": [],
   "source": [
    "class TransformerBlock(nn.Module):\n",
    "    def __init__(self, embed_size, heads, dropout):\n",
    "        super(TransformerBlock, self).__init__()\n",
    "        self.attention = MultiHeadSelfAttention(embed_size, heads)\n",
    "        self.norm1 = nn.LayerNorm(embed_size)\n",
    "        self.norm2 = nn.LayerNorm(embed_size)\n",
    "        self.feed_forward = nn.Sequential(\n",
    "            nn.Linear(embed_size, embed_size * 4),\n",
    "            nn.ReLU(),\n",
    "            nn.Linear(embed_size * 4, embed_size),\n",
    "        )\n",
    "        self.dropout = nn.Dropout(dropout)\n",
    "\n",
    "    def forward(self, value, key, query, mask):\n",
    "        attention = self.attention(value, key, query, mask)\n",
    "        x = self.dropout(self.norm1(attention + query))\n",
    "        forward = self.feed_forward(x)\n",
    "        out = self.dropout(self.norm2(forward + x))\n",
    "        return out"
   ]
  },
  {
   "cell_type": "markdown",
   "metadata": {},
   "source": [
    "Step 5: GPT Model\n"
   ]
  },
  {
   "cell_type": "code",
   "execution_count": 5,
   "metadata": {},
   "outputs": [],
   "source": [
    "class GPT(nn.Module):\n",
    "    def __init__(self, vocab_size, embed_size, num_layers, heads, device, dropout, max_length):\n",
    "        super(GPT, self).__init__()\n",
    "        self.device = device\n",
    "        self.embed_size = embed_size\n",
    "        self.word_embedding = nn.Embedding(vocab_size, embed_size)\n",
    "        self.position_embedding = PositionalEncoding(embed_size, max_length)\n",
    "        self.layers = nn.ModuleList(\n",
    "            [TransformerBlock(embed_size, heads, dropout) for _ in range(num_layers)]\n",
    "        )\n",
    "        self.fc_out = nn.Linear(embed_size, vocab_size)\n",
    "        self.dropout = nn.Dropout(dropout)\n",
    "\n",
    "    def forward(self, x, mask=None):\n",
    "        # x is expected to be of shape (batch_size, sequence_length)\n",
    "        batch_size, seq_length = x.shape\n",
    "        \n",
    "        # Get the word embeddings and apply positional encodings\n",
    "        word_embeddings = self.word_embedding(x)  # (batch_size, sequence_length, embed_size)\n",
    "        position_encodings = self.position_embedding(word_embeddings)  # Positional encoding dynamically adjusted\n",
    "        \n",
    "        out = self.dropout(position_encodings)\n",
    "\n",
    "        # Pass through each Transformer block\n",
    "        for layer in self.layers:\n",
    "            out = layer(out, out, out, mask)\n",
    "\n",
    "        logits = self.fc_out(out)\n",
    "        return logits\n"
   ]
  },
  {
   "cell_type": "markdown",
   "metadata": {},
   "source": [
    "3. Preparing the Data"
   ]
  },
  {
   "cell_type": "markdown",
   "metadata": {},
   "source": [
    "Step 1: Tokenization\n"
   ]
  },
  {
   "cell_type": "code",
   "execution_count": 6,
   "metadata": {},
   "outputs": [],
   "source": [
    "from collections import Counter\n",
    "import re\n",
    "\n",
    "def tokenize(text):\n",
    "    tokens = re.findall(r'\\w+', text.lower())\n",
    "    return tokens\n",
    "\n",
    "def build_vocab(text):\n",
    "    tokens = tokenize(text)\n",
    "    vocab = Counter(tokens)\n",
    "    vocab = {word: idx for idx, (word, _) in enumerate(vocab.most_common())}\n",
    "    return vocab\n",
    "\n",
    "def encode(text, vocab):\n",
    "    tokens = tokenize(text)\n",
    "    return [vocab[token] for token in tokens if token in vocab]"
   ]
  },
  {
   "cell_type": "markdown",
   "metadata": {},
   "source": [
    "4. Training the Model\n"
   ]
  },
  {
   "cell_type": "markdown",
   "metadata": {},
   "source": [
    "Step 1: Training Loop\n"
   ]
  },
  {
   "cell_type": "code",
   "execution_count": 7,
   "metadata": {},
   "outputs": [],
   "source": [
    "def train(model, data, vocab, epochs=10, lr=1e-4):\n",
    "    optimizer = torch.optim.Adam(model.parameters(), lr=lr)\n",
    "    criterion = nn.CrossEntropyLoss()\n",
    "\n",
    "    model.train()\n",
    "    for epoch in range(epochs):\n",
    "        total_loss = 0\n",
    "        for batch in data:\n",
    "            inputs = batch[:, :-1].to(model.device)  # Inputs: all tokens except the last\n",
    "            targets = batch[:, 1:].to(model.device)  # Targets: all tokens shifted by one position\n",
    "            mask = None\n",
    "\n",
    "            optimizer.zero_grad()\n",
    "            output = model(inputs, mask)  # Forward pass\n",
    "            loss = criterion(output.view(-1, output.size(-1)), targets.view(-1))  # Compute loss\n",
    "            loss.backward()  # Backpropagation\n",
    "            optimizer.step()  # Update weights\n",
    "\n",
    "            total_loss += loss.item()\n",
    "        print(f\"Epoch {epoch + 1}, Loss: {total_loss / len(data)}\")\n"
   ]
  },
  {
   "cell_type": "markdown",
   "metadata": {},
   "source": [
    "Step 2: Dummy Data for Testing\n"
   ]
  },
  {
   "cell_type": "code",
   "execution_count": 8,
   "metadata": {},
   "outputs": [],
   "source": [
    "text = \"This is a small test dataset for GPT training.\"\n",
    "vocab = build_vocab(text)\n",
    "encoded_text = encode(text, vocab)"
   ]
  },
  {
   "cell_type": "code",
   "execution_count": 9,
   "metadata": {},
   "outputs": [
    {
     "data": {
      "text/plain": [
       "{'this': 0,\n",
       " 'is': 1,\n",
       " 'a': 2,\n",
       " 'small': 3,\n",
       " 'test': 4,\n",
       " 'dataset': 5,\n",
       " 'for': 6,\n",
       " 'gpt': 7,\n",
       " 'training': 8}"
      ]
     },
     "execution_count": 9,
     "metadata": {},
     "output_type": "execute_result"
    }
   ],
   "source": [
    "vocab\n"
   ]
  },
  {
   "cell_type": "code",
   "execution_count": 10,
   "metadata": {},
   "outputs": [
    {
     "data": {
      "text/plain": [
       "[0, 1, 2, 3, 4, 5, 6, 7, 8]"
      ]
     },
     "execution_count": 10,
     "metadata": {},
     "output_type": "execute_result"
    }
   ],
   "source": [
    "encoded_text"
   ]
  },
  {
   "cell_type": "markdown",
   "metadata": {},
   "source": [
    "5. Implementing Text Generation Using Auto-Regressive Decoding\n"
   ]
  },
  {
   "cell_type": "code",
   "execution_count": 11,
   "metadata": {},
   "outputs": [],
   "source": [
    "def generate_text(model, prompt, vocab, max_len=50):\n",
    "    model.eval()\n",
    "    words = tokenize(prompt)\n",
    "    inputs = torch.tensor([vocab.get(word, 0) for word in words], dtype=torch.long).unsqueeze(0).to(model.device)  # Add batch dimension\n",
    "    \n",
    "    for _ in range(max_len):\n",
    "        mask = None\n",
    "        with torch.no_grad():\n",
    "            output = model(inputs, mask)\n",
    "            next_token_logits = output[0, -1, :]  # Get the logits of the last predicted token\n",
    "            predicted_token = torch.argmax(next_token_logits).unsqueeze(0).unsqueeze(0)  # Add batch and sequence dimensions\n",
    "            inputs = torch.cat([inputs, predicted_token], dim=1)  # Append predicted token to the input sequence\n",
    "    \n",
    "    decoded_sentence = ' '.join([list(vocab.keys())[i] for i in inputs[0].tolist()])\n",
    "    return decoded_sentence\n"
   ]
  },
  {
   "cell_type": "code",
   "execution_count": 12,
   "metadata": {},
   "outputs": [],
   "source": [
    "# Define a small dataset\n",
    "text = \"\"\"\n",
    "The quick brown fox jumps over the lazy dog. \n",
    "This is an example of a small dataset for training a GPT model.\n",
    "We are building a transformer-based architecture.\n",
    "\"\"\"\n",
    "vocab = build_vocab(text)\n",
    "encoded_text = encode(text, vocab)\n"
   ]
  },
  {
   "cell_type": "code",
   "execution_count": 13,
   "metadata": {},
   "outputs": [],
   "source": [
    "# Prepare the training data (this is token-based data)\n",
    "# Here we split the text into batches of sequences\n",
    "sequence_length = 10\n",
    "train_data = [encoded_text[i:i + sequence_length + 1] for i in range(0, len(encoded_text) - sequence_length)]\n",
    "\n",
    "# We need to ensure train_data is converted to tensors with batch dimensions.\n",
    "train_data = [torch.tensor(seq, dtype=torch.long).unsqueeze(0) for seq in train_data]  # Adds batch dimension\n"
   ]
  },
  {
   "cell_type": "code",
   "execution_count": 14,
   "metadata": {},
   "outputs": [],
   "source": [
    "# Define model hyperparameters\n",
    "device = torch.device(\"cuda\" if torch.cuda.is_available() else \"cpu\")\n",
    "vocab_size = len(vocab)\n",
    "embed_size = 128\n",
    "num_layers = 2\n",
    "heads = 8\n",
    "dropout = 0.1\n",
    "max_length = 50"
   ]
  },
  {
   "cell_type": "code",
   "execution_count": 15,
   "metadata": {},
   "outputs": [],
   "source": [
    "# Instantiate the model\n",
    "model = GPT(vocab_size, embed_size, num_layers, heads, device, dropout, max_length).to(device)\n"
   ]
  },
  {
   "cell_type": "code",
   "execution_count": 16,
   "metadata": {},
   "outputs": [
    {
     "name": "stdout",
     "output_type": "stream",
     "text": [
      "Epoch 1, Loss: 2.6930744647979736\n",
      "Epoch 2, Loss: 1.012325500187121\n",
      "Epoch 3, Loss: 0.37377324935637024\n",
      "Epoch 4, Loss: 0.2510688936239795\n",
      "Epoch 5, Loss: 0.21746389214929782\n",
      "Epoch 6, Loss: 0.18218677079207019\n",
      "Epoch 7, Loss: 0.15080906901704638\n",
      "Epoch 8, Loss: 0.14515382247535805\n",
      "Epoch 9, Loss: 0.1481267458906299\n",
      "Epoch 10, Loss: 0.156522422832878\n",
      "Epoch 11, Loss: 0.1393613752565886\n",
      "Epoch 12, Loss: 0.11722676426564392\n",
      "Epoch 13, Loss: 0.12193309172595802\n",
      "Epoch 14, Loss: 0.16868092423599018\n",
      "Epoch 15, Loss: 0.1279501129726046\n",
      "Epoch 16, Loss: 0.10985909863130043\n",
      "Epoch 17, Loss: 0.09965112726939351\n",
      "Epoch 18, Loss: 0.15541659364182697\n",
      "Epoch 19, Loss: 0.09410426442168261\n",
      "Epoch 20, Loss: 0.10181736828465211\n",
      "Epoch 21, Loss: 0.08141366698730149\n",
      "Epoch 22, Loss: 0.08631285726043739\n",
      "Epoch 23, Loss: 0.11474484631693677\n",
      "Epoch 24, Loss: 0.1162260721780752\n",
      "Epoch 25, Loss: 0.15739657587714886\n",
      "Epoch 26, Loss: 0.14529048166188754\n",
      "Epoch 27, Loss: 0.20479154694629342\n",
      "Epoch 28, Loss: 0.11280480066412374\n",
      "Epoch 29, Loss: 0.07618972786555164\n",
      "Epoch 30, Loss: 0.058666056242624394\n",
      "Epoch 31, Loss: 0.039148960826232246\n",
      "Epoch 32, Loss: 0.047694623715391286\n",
      "Epoch 33, Loss: 0.0403807227695851\n",
      "Epoch 34, Loss: 0.047610763729991096\n",
      "Epoch 35, Loss: 0.04803780091338252\n",
      "Epoch 36, Loss: 0.14191124566193475\n",
      "Epoch 37, Loss: 0.10923818572375335\n",
      "Epoch 38, Loss: 0.08179396008582492\n",
      "Epoch 39, Loss: 0.040652311333504165\n",
      "Epoch 40, Loss: 0.05524091992380196\n",
      "Epoch 41, Loss: 0.048321667641989495\n",
      "Epoch 42, Loss: 0.03398061396652147\n",
      "Epoch 43, Loss: 0.07679875055328012\n",
      "Epoch 44, Loss: 0.07684987267528318\n",
      "Epoch 45, Loss: 0.20984867869533205\n",
      "Epoch 46, Loss: 0.11017538577710327\n",
      "Epoch 47, Loss: 0.0521820188794089\n",
      "Epoch 48, Loss: 0.050740194310875314\n",
      "Epoch 49, Loss: 0.06684568167762145\n",
      "Epoch 50, Loss: 0.10786914946756472\n",
      "Epoch 51, Loss: 0.0573537671007216\n",
      "Epoch 52, Loss: 0.022261472382141573\n",
      "Epoch 53, Loss: 0.02334728751233534\n",
      "Epoch 54, Loss: 0.032912454984493945\n",
      "Epoch 55, Loss: 0.03061599778256526\n",
      "Epoch 56, Loss: 0.029170564988529997\n",
      "Epoch 57, Loss: 0.03347453727435909\n",
      "Epoch 58, Loss: 0.02238549926857415\n",
      "Epoch 59, Loss: 0.010445497648202275\n",
      "Epoch 60, Loss: 0.008186400408464434\n",
      "Epoch 61, Loss: 0.004507519911337448\n",
      "Epoch 62, Loss: 0.0038878422622617924\n",
      "Epoch 63, Loss: 0.0075016571392648316\n",
      "Epoch 64, Loss: 0.004340235058120207\n",
      "Epoch 65, Loss: 0.010235668751288597\n",
      "Epoch 66, Loss: 0.014370559040751112\n",
      "Epoch 67, Loss: 0.016860132479402972\n",
      "Epoch 68, Loss: 0.023128742223458464\n",
      "Epoch 69, Loss: 0.0055239554372076925\n",
      "Epoch 70, Loss: 0.0025542631965914837\n",
      "Epoch 71, Loss: 0.002216966280493101\n",
      "Epoch 72, Loss: 0.0019521068652944738\n",
      "Epoch 73, Loss: 0.0017275426561306965\n",
      "Epoch 74, Loss: 0.00164037317919888\n",
      "Epoch 75, Loss: 0.001927966785028969\n",
      "Epoch 76, Loss: 0.005100572343891193\n",
      "Epoch 77, Loss: 0.03107184946144882\n",
      "Epoch 78, Loss: 0.035420462642306166\n",
      "Epoch 79, Loss: 0.09127700225891251\n",
      "Epoch 80, Loss: 0.05521779156927215\n",
      "Epoch 81, Loss: 0.17114901948279063\n",
      "Epoch 82, Loss: 0.049784236268973665\n",
      "Epoch 83, Loss: 0.0610881561143814\n",
      "Epoch 84, Loss: 0.05629178566711122\n",
      "Epoch 85, Loss: 0.10273372770385131\n",
      "Epoch 86, Loss: 0.21712684620318837\n",
      "Epoch 87, Loss: 0.20494848372120605\n",
      "Epoch 88, Loss: 0.18728621024638414\n",
      "Epoch 89, Loss: 0.11362443777953128\n",
      "Epoch 90, Loss: 0.04764532222486052\n",
      "Epoch 91, Loss: 0.037179648199143184\n",
      "Epoch 92, Loss: 0.021722516265550728\n",
      "Epoch 93, Loss: 0.025780859418630012\n",
      "Epoch 94, Loss: 0.025889959351747836\n",
      "Epoch 95, Loss: 0.0313989572521103\n",
      "Epoch 96, Loss: 0.016405239370406458\n",
      "Epoch 97, Loss: 0.00813376367410743\n",
      "Epoch 98, Loss: 0.004639406853943671\n",
      "Epoch 99, Loss: 0.005512466317189759\n",
      "Epoch 100, Loss: 0.002873942476550215\n"
     ]
    }
   ],
   "source": [
    "# Training the model on small text dataset\n",
    "train(model, train_data, vocab, epochs=100, lr=0.001)\n"
   ]
  },
  {
   "cell_type": "code",
   "execution_count": 17,
   "metadata": {},
   "outputs": [],
   "source": [
    "# Generating text\n",
    "prompt = \"The quick brown\"\n",
    "generated_text = generate_text(model, prompt, vocab, max_len=50)"
   ]
  },
  {
   "cell_type": "code",
   "execution_count": 18,
   "metadata": {},
   "outputs": [
    {
     "name": "stdout",
     "output_type": "stream",
     "text": [
      "Generated Text:\n",
      "the quick brown fox jumps over the lazy dog this is an example of a small dataset for training a small dataset for training a small dataset for training a small dataset for training a small dataset for training a small dataset for training a small dataset for training a small dataset for\n"
     ]
    }
   ],
   "source": [
    "# Output the generated text\n",
    "print(\"Generated Text:\")\n",
    "print(generated_text)\n"
   ]
  }
 ],
 "metadata": {
  "kernelspec": {
   "display_name": ".venv",
   "language": "python",
   "name": "python3"
  },
  "language_info": {
   "codemirror_mode": {
    "name": "ipython",
    "version": 3
   },
   "file_extension": ".py",
   "mimetype": "text/x-python",
   "name": "python",
   "nbconvert_exporter": "python",
   "pygments_lexer": "ipython3",
   "version": "3.10.12"
  }
 },
 "nbformat": 4,
 "nbformat_minor": 2
}
